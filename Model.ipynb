{
 "cells": [
  {
   "cell_type": "code",
   "execution_count": 118,
   "id": "47bf844e",
   "metadata": {},
   "outputs": [],
   "source": [
    "# here will be cleaning the data \n",
    "import os \n",
    "import pathlib\n",
    "import json\n",
    "import pandas as pd\n",
    "import numpy as np"
   ]
  },
  {
   "cell_type": "code",
   "execution_count": 125,
   "id": "122ca4e6",
   "metadata": {},
   "outputs": [],
   "source": [
    "class Review:\n",
    "    CsvData = {'comment': [],'rating':[] }\n",
    "    def __init__(self, comment:str, rating: float):\n",
    "        self.comment = comment\n",
    "        self.rating = rating\n",
    "    \n",
    "    @classmethod\n",
    "    def pushtocsv(cls,comment:str, rating:float):\n",
    "        cls.CsvData['comment'].append(comment)  \n",
    "        cls.CsvData['rating'].append(rating)\n",
    "        \n",
    "    @classmethod\n",
    "    def saveTheToCsv(cls, path):\n",
    "        s = os.path.join(path, 'ratings.csv')\n",
    "        df = pd.DataFrame(cls.CsvData, columns= {'comment','rating'})\n",
    "#         df.to_csv(s)\n",
    "        "
   ]
  },
  {
   "cell_type": "code",
   "execution_count": 127,
   "id": "38e8b5d5",
   "metadata": {},
   "outputs": [],
   "source": [
    "data = []\n",
    "def formatData(Datapath: str, PreparedDataPath=\"cleanedData\"):\n",
    "    Datapath = pathlib.Path(Datapath)\n",
    "    savingDir = pathlib.Path(PreparedDataPath)\n",
    "    for file in Datapath.iterdir():\n",
    "        with open(file) as f:\n",
    "            for line in f:\n",
    "                review = json.loads(line)\n",
    "                reviewObject = Review(review['reviewText'], review['overall'])\n",
    "                data.append(reviewObject)\n",
    "                Review.pushtocsv(review['reviewText'], review['overall'])\n",
    "    \n",
    "#     Review.saveTheToCsv(savingDir)\n",
    "                \n",
    "                \n"
   ]
  },
  {
   "cell_type": "code",
   "execution_count": 128,
   "id": "e7cdabbc",
   "metadata": {},
   "outputs": [],
   "source": [
    "formatData(\"data\")"
   ]
  },
  {
   "cell_type": "code",
   "execution_count": null,
   "id": "dc2a8282",
   "metadata": {},
   "outputs": [],
   "source": []
  }
 ],
 "metadata": {
  "kernelspec": {
   "display_name": "Python 3 (ipykernel)",
   "language": "python",
   "name": "python3"
  },
  "language_info": {
   "codemirror_mode": {
    "name": "ipython",
    "version": 3
   },
   "file_extension": ".py",
   "mimetype": "text/x-python",
   "name": "python",
   "nbconvert_exporter": "python",
   "pygments_lexer": "ipython3",
   "version": "3.7.2"
  }
 },
 "nbformat": 4,
 "nbformat_minor": 5
}
